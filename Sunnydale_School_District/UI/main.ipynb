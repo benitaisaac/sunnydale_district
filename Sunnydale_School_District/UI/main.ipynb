{
 "cells": [
  {
   "cell_type": "markdown",
   "id": "cdb8a652-a98f-477b-80fc-f3da85919511",
   "metadata": {},
   "source": [
    "# LOGIN INFORMATION\n",
    "### **TEACHER**\n",
    "- Username: tea_dana.cannon\n",
    "- Password: d8]|6!w8:*ne\n",
    "\n",
    "### **GUARDIAN**\n",
    "- Username: gua_m.lawrence\n",
    "- Password: 2!b>GIN8j&X\n",
    "\n",
    "### **STUDENT**\n",
    "- Username: stu_jphillip58\n",
    "- Password: %9(n{siK8?G]\n",
    "  \n",
    "### **DISTRICT ADMIN**\n",
    "- Username: dis_mwilkins\n",
    "- Password: V;ew$ES6 "
   ]
  },
  {
   "cell_type": "code",
   "execution_count": 1,
   "id": "d83f512d-1ca8-4992-8de6-1413c2eee1e3",
   "metadata": {},
   "outputs": [
    {
     "name": "stderr",
     "output_type": "stream",
     "text": [
      "qt.qpa.fonts: Populating font family aliases took 60 ms. Replace uses of missing font family \"Segoe UI\" with one that exists to avoid this cost. \n"
     ]
    },
    {
     "name": "stdout",
     "output_type": "stream",
     "text": [
      "[('tea_dana.cannon', '93cc2eb4ae65a8889a5f2c5ded540e2ff81942513a0e12a531c6e879b710f832', 'teacher')]\n"
     ]
    },
    {
     "name": "stderr",
     "output_type": "stream",
     "text": [
      "QFont::setPointSize: Point size <= 0 (-1), must be greater than 0\n",
      "QFont::setPointSize: Point size <= 0 (-1), must be greater than 0\n",
      "QFont::setPointSize: Point size <= 0 (-1), must be greater than 0\n",
      "QFont::setPointSize: Point size <= 0 (-1), must be greater than 0\n",
      "QFont::setPointSize: Point size <= 0 (-1), must be greater than 0\n",
      "QFont::setPointSize: Point size <= 0 (-1), must be greater than 0\n",
      "QFrame(0x13bfabe40, name=\"count_frame\")  does not have a property named  \"alignment\"\n",
      "QFrame(0x13bfabe40, name=\"count_frame\")  does not have a property named  \"alignment\"\n"
     ]
    },
    {
     "name": "stdout",
     "output_type": "stream",
     "text": [
      "[('A', 2), ('B', 8), ('C', 10), ('D', 5)]\n"
     ]
    },
    {
     "name": "stderr",
     "output_type": "stream",
     "text": [
      "/Users/benita/Desktop/201_DATA/Data201_SheQL/Final_Project/UI/teacher_homepage_window.py:856: UserWarning: The palette list has more values (5) than needed (4), which may not be intended.\n",
      "  ax = sns.barplot(x='Letter Grade', y='Number of Students', hue ='Letter Grade',\n"
     ]
    },
    {
     "name": "stdout",
     "output_type": "stream",
     "text": [
      "[('tea_dana.cannon', '93cc2eb4ae65a8889a5f2c5ded540e2ff81942513a0e12a531c6e879b710f832', 'teacher')]\n",
      "[(Decimal('74.35'), 'C')]\n",
      "2 1309 homework1 92 0.05\n",
      "2 1309 homework3 92 0.05\n"
     ]
    },
    {
     "name": "stderr",
     "output_type": "stream",
     "text": [
      "/Users/benita/Desktop/201_DATA/Data201_SheQL/Final_Project/UI/teacher_homepage_window.py:697: UserWarning: The palette list has more values (4) than needed (2), which may not be intended.\n",
      "  ax = sns.barplot(x='Attendance Type', y='Number of Students', hue ='Attendance Type',\n"
     ]
    },
    {
     "name": "stdout",
     "output_type": "stream",
     "text": [
      "[('B', 11), ('C', 7), ('D', 7)]\n"
     ]
    },
    {
     "name": "stderr",
     "output_type": "stream",
     "text": [
      "/Users/benita/Desktop/201_DATA/Data201_SheQL/Final_Project/UI/teacher_homepage_window.py:856: UserWarning: The palette list has more values (5) than needed (3), which may not be intended.\n",
      "  ax = sns.barplot(x='Letter Grade', y='Number of Students', hue ='Letter Grade',\n"
     ]
    },
    {
     "name": "stdout",
     "output_type": "stream",
     "text": [
      "[('gua_m.lawrence', 'ba8be00bf98321edc2a61fb2980a9b195ab89a3269f2da7880eb4d657ad5ff03', 'guardian')]\n",
      "[('gua_m.lawrence', 'ba8be00bf98321edc2a61fb2980a9b195ab89a3269f2da7880eb4d657ad5ff03', 'guardian')]\n",
      "[('stu_jphillip58', 'd58be6c6e7f16acfa3a9dc2dfe2f1d50182675d908938d31fa42a247cc6b834a', 'student')]\n",
      "[[1, 'Math'], [3, 'English'], [4, 'History'], [6, 'PE'], [8, 'Computers'], [2, 'Science']]\n",
      "[('stu_jphillip58', 'd58be6c6e7f16acfa3a9dc2dfe2f1d50182675d908938d31fa42a247cc6b834a', 'student')]\n",
      "[('dis_mwilkins', 'b9728f6bdfc20de819f6cb19ed4544bafa8605440bf8b5d5409c47731a556661', 'district_admin')]\n",
      "UI loaded!\n",
      "Found stored result set\n",
      "Fetched schools ['Campbell Middle School', 'Coffey Elementary School', 'Griffin Elementary School', 'Johnson Middle School', 'Larsen High School', 'Lewis High School', 'Mclaughlin Special Education School', 'Melton Elementary School', 'Powell Middle School', 'Singh Elementary School']\n",
      "Fetched school names: ['Campbell Middle School', 'Coffey Elementary School', 'Griffin Elementary School', 'Johnson Middle School', 'Larsen High School', 'Lewis High School', 'Mclaughlin Special Education School', 'Melton Elementary School', 'Powell Middle School', 'Singh Elementary School']\n",
      "Selected ID from comboSchoolChart: 1 <class 'int'>\n",
      "Available keys in school_map: [1, 2, 3, 4, 5, 6, 7, 8, 9, 10]\n",
      "Filtered grades + rates:\n",
      "{'school_id': 1, 'grade_level': 'K', 'attendance_rate': 94.3}\n",
      "{'school_id': 1, 'grade_level': '1', 'attendance_rate': 95.5}\n",
      "{'school_id': 1, 'grade_level': '2', 'attendance_rate': 96.8}\n",
      "{'school_id': 1, 'grade_level': '3', 'attendance_rate': 100.0}\n",
      "{'school_id': 1, 'grade_level': '4', 'attendance_rate': 91.9}\n",
      "{'school_id': 1, 'grade_level': '5', 'attendance_rate': 100.0}\n",
      "Grade 10 missing from sorted list!\n",
      "[('dis_mwilkins', 'b9728f6bdfc20de819f6cb19ed4544bafa8605440bf8b5d5409c47731a556661', 'district_admin')]\n",
      "Resolved school_id: 4 for school_name: Griffin Elementary School\n",
      "Calling procedure with: school_id=4 (<class 'int'>), grade_level=2 (<class 'str'>), date=2025-05-13 (<class 'str'>)\n",
      "Procedure returned rows: [(Decimal('98.0'),)]\n",
      "Selected ID from comboSchoolChart: 3 <class 'int'>\n",
      "Available keys in school_map: [1, 2, 3, 4, 5, 6, 7, 8, 9, 10]\n",
      "Filtered grades + rates:\n",
      "{'school_id': 3, 'grade_level': 'K', 'attendance_rate': 100.0}\n",
      "{'school_id': 3, 'grade_level': '1', 'attendance_rate': 98.1}\n",
      "{'school_id': 3, 'grade_level': '2', 'attendance_rate': 93.7}\n",
      "{'school_id': 3, 'grade_level': '3', 'attendance_rate': 94.0}\n",
      "{'school_id': 3, 'grade_level': '4', 'attendance_rate': 97.6}\n",
      "{'school_id': 3, 'grade_level': '5', 'attendance_rate': 98.2}\n",
      "Grade 10 missing from sorted list!\n",
      "Selected ID from comboSchoolChart: 6 <class 'int'>\n",
      "Available keys in school_map: [1, 2, 3, 4, 5, 6, 7, 8, 9, 10]\n",
      "Filtered grades + rates:\n",
      "{'school_id': 6, 'grade_level': '6', 'attendance_rate': 91.2}\n",
      "{'school_id': 6, 'grade_level': '7', 'attendance_rate': 94.0}\n",
      "{'school_id': 6, 'grade_level': '8', 'attendance_rate': 93.5}\n",
      "Grade 10 missing from sorted list!\n"
     ]
    }
   ],
   "source": [
    "import sys\n",
    "from PyQt5.QtWidgets import QApplication\n",
    "from main import Main\n",
    "\n",
    "if __name__ == '__main__':\n",
    "    app = QApplication(sys.argv)\n",
    "    window = Main()\n",
    "    app.exec_()"
   ]
  },
  {
   "cell_type": "code",
   "execution_count": null,
   "id": "e9c4b829-5070-4fdb-8e26-1cbdf8f3914b",
   "metadata": {},
   "outputs": [],
   "source": []
  },
  {
   "cell_type": "code",
   "execution_count": null,
   "id": "dcc2bef9-e69b-4629-98bd-915f2adb019e",
   "metadata": {},
   "outputs": [],
   "source": []
  }
 ],
 "metadata": {
  "kernelspec": {
   "display_name": "env1",
   "language": "python",
   "name": "python3"
  },
  "language_info": {
   "codemirror_mode": {
    "name": "ipython",
    "version": 3
   },
   "file_extension": ".py",
   "mimetype": "text/x-python",
   "name": "python",
   "nbconvert_exporter": "python",
   "pygments_lexer": "ipython3",
   "version": "3.13.2"
  }
 },
 "nbformat": 4,
 "nbformat_minor": 5
}
