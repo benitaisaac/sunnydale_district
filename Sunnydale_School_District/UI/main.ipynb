{
 "cells": [
  {
   "cell_type": "markdown",
   "id": "cdb8a652-a98f-477b-80fc-f3da85919511",
   "metadata": {},
   "source": [
    "# LOGIN INFORMATION\n",
    "### **TEACHER**\n",
    "- Username: tea_dana.cannon\n",
    "- Password: d8]|6!w8:*ne\n",
    "\n",
    "### **GUARDIAN**\n",
    "- Username: gua_m.lawrence\n",
    "- Password: 2!b>GIN8j&X\n",
    "\n",
    "### **STUDENT**\n",
    "- Username: stu_jphillip58\n",
    "- Password: %9(n{siK8?G]\n",
    "  \n",
    "### **DISTRICT ADMIN**\n",
    "- Username: dis_mwilkins\n",
    "- Password: V;ew$ES6 "
   ]
  },
  {
   "cell_type": "code",
   "execution_count": 1,
   "id": "d83f512d-1ca8-4992-8de6-1413c2eee1e3",
   "metadata": {},
   "outputs": [
    {
     "name": "stderr",
     "output_type": "stream",
     "text": [
      "qt.qpa.fonts: Populating font family aliases took 54 ms. Replace uses of missing font family \"Segoe UI\" with one that exists to avoid this cost. \n"
     ]
    },
    {
     "name": "stdout",
     "output_type": "stream",
     "text": [
      "[('tea_dana.cannon', '93cc2eb4ae65a8889a5f2c5ded540e2ff81942513a0e12a531c6e879b710f832', 'teacher')]\n"
     ]
    },
    {
     "name": "stderr",
     "output_type": "stream",
     "text": [
      "QFont::setPointSize: Point size <= 0 (-1), must be greater than 0\n",
      "QFont::setPointSize: Point size <= 0 (-1), must be greater than 0\n",
      "QFont::setPointSize: Point size <= 0 (-1), must be greater than 0\n",
      "QFont::setPointSize: Point size <= 0 (-1), must be greater than 0\n",
      "QFont::setPointSize: Point size <= 0 (-1), must be greater than 0\n",
      "QFont::setPointSize: Point size <= 0 (-1), must be greater than 0\n",
      "QFrame(0x6000013f5b90, name=\"count_frame\")  does not have a property named  \"alignment\"\n",
      "QFrame(0x6000013f5b90, name=\"count_frame\")  does not have a property named  \"alignment\"\n"
     ]
    },
    {
     "name": "stdout",
     "output_type": "stream",
     "text": [
      "[('A', 2), ('B', 8), ('C', 10), ('D', 5)]\n"
     ]
    },
    {
     "name": "stderr",
     "output_type": "stream",
     "text": [
      "/Users/benita/grad-school/job-search/sunnydale_district/Sunnydale_School_District/UI/teacher_homepage_window.py:856: UserWarning: The palette list has more values (5) than needed (4), which may not be intended.\n",
      "  ax = sns.barplot(x='Letter Grade', y='Number of Students', hue ='Letter Grade',\n"
     ]
    },
    {
     "name": "stdout",
     "output_type": "stream",
     "text": [
      "[('tea_dana.cannon', '93cc2eb4ae65a8889a5f2c5ded540e2ff81942513a0e12a531c6e879b710f832', 'teacher')]\n",
      "[(Decimal('88.85'), 'B')]\n",
      "2 774 Homework3 98 .05\n",
      "2 774 homework3 98 .05\n"
     ]
    },
    {
     "name": "stderr",
     "output_type": "stream",
     "text": [
      "/Users/benita/grad-school/job-search/sunnydale_district/Sunnydale_School_District/UI/teacher_homepage_window.py:697: UserWarning: The palette list has more values (4) than needed (2), which may not be intended.\n",
      "  ax = sns.barplot(x='Attendance Type', y='Number of Students', hue ='Attendance Type',\n"
     ]
    }
   ],
   "source": [
    "import sys\n",
    "from PyQt5.QtWidgets import QApplication\n",
    "from main import Main\n",
    "\n",
    "if __name__ == '__main__':\n",
    "    app = QApplication(sys.argv)\n",
    "    window = Main()\n",
    "    app.exec_()"
   ]
  },
  {
   "cell_type": "code",
   "execution_count": null,
   "id": "e9c4b829-5070-4fdb-8e26-1cbdf8f3914b",
   "metadata": {},
   "outputs": [],
   "source": []
  },
  {
   "cell_type": "code",
   "execution_count": null,
   "id": "dcc2bef9-e69b-4629-98bd-915f2adb019e",
   "metadata": {},
   "outputs": [],
   "source": []
  }
 ],
 "metadata": {
  "kernelspec": {
   "display_name": "Python 3",
   "language": "python",
   "name": "python3"
  },
  "language_info": {
   "codemirror_mode": {
    "name": "ipython",
    "version": 3
   },
   "file_extension": ".py",
   "mimetype": "text/x-python",
   "name": "python",
   "nbconvert_exporter": "python",
   "pygments_lexer": "ipython3",
   "version": "3.10.16"
  }
 },
 "nbformat": 4,
 "nbformat_minor": 5
}
