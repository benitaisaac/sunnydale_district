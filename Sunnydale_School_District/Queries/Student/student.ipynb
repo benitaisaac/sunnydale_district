{
 "cells": [
  {
   "cell_type": "markdown",
   "id": "b5fd6389-25f1-44ac-8fc5-29d49a5a26d1",
   "metadata": {},
   "source": [
    "# Student Queries "
   ]
  },
  {
   "cell_type": "code",
   "execution_count": 1,
   "id": "3e0daf48-c8dc-4d2f-a3c6-57d0a02ccdd6",
   "metadata": {},
   "outputs": [],
   "source": [
    "from data201 import db_connection, df_query\n",
    "from pandas import DataFrame\n",
    "conn = db_connection('sheql.ini')\n",
    "cursor = conn.cursor()"
   ]
  },
  {
   "cell_type": "markdown",
   "id": "cc79ff81-c3df-49c7-bd00-dad2e24a5037",
   "metadata": {},
   "source": [
    "### Dataframe visualization for testing purposes"
   ]
  },
  {
   "cell_type": "code",
   "execution_count": 2,
   "id": "91367265-2192-4896-aada-a47bf21569e5",
   "metadata": {},
   "outputs": [],
   "source": [
    "def display_results(cursor):\n",
    "    \"\"\"\n",
    "    If there are results in the cursor from a call to a\n",
    "    stored procedure, display the results in a dataframe. \n",
    "    \"\"\"\n",
    "    columns = result.description\n",
    "    \n",
    "    if columns == None:\n",
    "        return \n",
    "    \n",
    "    else:\n",
    "        column_names = [column_info[0] \n",
    "                        for column_info in columns]\n",
    "\n",
    "        rows = cursor.fetchall()\n",
    "    \n",
    "        if len(rows) > 0:\n",
    "            df = DataFrame(rows)\n",
    "            df.columns = column_names\n",
    "            \n",
    "            display(df)\n",
    "        \n",
    "        else:\n",
    "            return"
   ]
  },
  {
   "cell_type": "markdown",
   "id": "870d8e66-232e-40c9-86dc-466f18380fd7",
   "metadata": {},
   "source": [
    "## Get student course schedule"
   ]
  },
  {
   "cell_type": "code",
   "execution_count": 3,
   "id": "49c75cd6-be54-4128-8298-e6487fa0883f",
   "metadata": {},
   "outputs": [],
   "source": [
    "cursor.execute('DROP PROCEDURE IF EXISTS get_student_course_schedule')\n",
    "\n",
    "cursor.execute(\n",
    "    \"\"\"\n",
    "    CREATE PROCEDURE get_student_course_schedule(\n",
    "        IN sUserName VARCHAR(50)\n",
    "    )\n",
    "    BEGIN\n",
    "        SELECT \n",
    "            c.course_id AS \"Course ID\",\n",
    "            c.name AS \"Course Name\",\n",
    "            CONCAT(takes.start_time, \"-\", takes.end_time) AS \"Class Times\"\n",
    "        FROM users u\n",
    "        JOIN student s USING (user_id)\n",
    "        JOIN takes USING (student_id)\n",
    "        JOIN course c USING (course_id)\n",
    "        JOIN teaches USING (course_id)\n",
    "        JOIN teacher t USING (teacher_id)\n",
    "        WHERE u.username = sUserName\n",
    "            AND teaches.course_id = takes.course_id\n",
    "            AND teaches.grade_level = s.grade_level\n",
    "        GROUP BY c.course_id,\n",
    "            c.name,\n",
    "            s.grade_level,\n",
    "            takes.start_time,\n",
    "            takes.end_time\n",
    "        ORDER BY takes.start_time, c.course_id;\n",
    "    END\n",
    "    \"\"\"\n",
    ")"
   ]
  },
  {
   "cell_type": "code",
   "execution_count": 4,
   "id": "58563c6d-fa1e-4222-8f4d-1387aa68c42b",
   "metadata": {},
   "outputs": [
    {
     "data": {
      "text/html": [
       "<div>\n",
       "<style scoped>\n",
       "    .dataframe tbody tr th:only-of-type {\n",
       "        vertical-align: middle;\n",
       "    }\n",
       "\n",
       "    .dataframe tbody tr th {\n",
       "        vertical-align: top;\n",
       "    }\n",
       "\n",
       "    .dataframe thead th {\n",
       "        text-align: right;\n",
       "    }\n",
       "</style>\n",
       "<table border=\"1\" class=\"dataframe\">\n",
       "  <thead>\n",
       "    <tr style=\"text-align: right;\">\n",
       "      <th></th>\n",
       "      <th>Course ID</th>\n",
       "      <th>Course Name</th>\n",
       "      <th>Class Times</th>\n",
       "    </tr>\n",
       "  </thead>\n",
       "  <tbody>\n",
       "    <tr>\n",
       "      <th>0</th>\n",
       "      <td>8</td>\n",
       "      <td>Computers</td>\n",
       "      <td>08:30:00-09:15:00</td>\n",
       "    </tr>\n",
       "    <tr>\n",
       "      <th>1</th>\n",
       "      <td>6</td>\n",
       "      <td>PE</td>\n",
       "      <td>09:25:00-10:10:00</td>\n",
       "    </tr>\n",
       "    <tr>\n",
       "      <th>2</th>\n",
       "      <td>5</td>\n",
       "      <td>Art</td>\n",
       "      <td>10:20:00-11:05:00</td>\n",
       "    </tr>\n",
       "    <tr>\n",
       "      <th>3</th>\n",
       "      <td>4</td>\n",
       "      <td>History</td>\n",
       "      <td>11:15:00-12:00:00</td>\n",
       "    </tr>\n",
       "    <tr>\n",
       "      <th>4</th>\n",
       "      <td>2</td>\n",
       "      <td>Science</td>\n",
       "      <td>13:00:00-13:50:00</td>\n",
       "    </tr>\n",
       "    <tr>\n",
       "      <th>5</th>\n",
       "      <td>7</td>\n",
       "      <td>Music</td>\n",
       "      <td>14:00:00-14:45:00</td>\n",
       "    </tr>\n",
       "  </tbody>\n",
       "</table>\n",
       "</div>"
      ],
      "text/plain": [
       "   Course ID Course Name        Class Times\n",
       "0          8   Computers  08:30:00-09:15:00\n",
       "1          6          PE  09:25:00-10:10:00\n",
       "2          5         Art  10:20:00-11:05:00\n",
       "3          4     History  11:15:00-12:00:00\n",
       "4          2     Science  13:00:00-13:50:00\n",
       "5          7       Music  14:00:00-14:45:00"
      ]
     },
     "metadata": {},
     "output_type": "display_data"
    }
   ],
   "source": [
    "sUserName = 'stu_jhays64'\n",
    "\n",
    "cursor.callproc('get_student_course_schedule', (sUserName,))\n",
    "\n",
    "for result in cursor.stored_results():\n",
    "    display_results(result)"
   ]
  },
  {
   "cell_type": "markdown",
   "id": "17901493-8dbe-4894-9b90-cb1553146810",
   "metadata": {},
   "source": [
    "## Get individual student data (name, DOB, Grade Level) "
   ]
  },
  {
   "cell_type": "code",
   "execution_count": 5,
   "id": "d9e9caee-cf65-40cc-9d72-58d77c5c8937",
   "metadata": {},
   "outputs": [],
   "source": [
    "cursor.execute('DROP PROCEDURE IF EXISTS get_individual_student')\n",
    "\n",
    "cursor.execute(\n",
    "    \"\"\"\n",
    "    CREATE PROCEDURE get_individual_student(\n",
    "        IN sUserName VARCHAR(50)\n",
    "    )\n",
    "    BEGIN\n",
    "        SELECT \n",
    "        \tCONCAT(s.first_name, ' ', s.last_name) AS \"Student Name\", \n",
    "            s.date_of_birth AS \"DOB\", \n",
    "            s.grade_level AS \"Grade Level\"\n",
    "        FROM student s\n",
    "        JOIN users u USING (user_id) \n",
    "        WHERE u.username = sUserName;\n",
    "    END\n",
    "    \"\"\"\n",
    ")"
   ]
  },
  {
   "cell_type": "code",
   "execution_count": 6,
   "id": "0d3024ab-5d27-4e91-97e4-ef9d8391631d",
   "metadata": {},
   "outputs": [
    {
     "data": {
      "text/html": [
       "<div>\n",
       "<style scoped>\n",
       "    .dataframe tbody tr th:only-of-type {\n",
       "        vertical-align: middle;\n",
       "    }\n",
       "\n",
       "    .dataframe tbody tr th {\n",
       "        vertical-align: top;\n",
       "    }\n",
       "\n",
       "    .dataframe thead th {\n",
       "        text-align: right;\n",
       "    }\n",
       "</style>\n",
       "<table border=\"1\" class=\"dataframe\">\n",
       "  <thead>\n",
       "    <tr style=\"text-align: right;\">\n",
       "      <th></th>\n",
       "      <th>Student Name</th>\n",
       "      <th>DOB</th>\n",
       "      <th>Grade Level</th>\n",
       "    </tr>\n",
       "  </thead>\n",
       "  <tbody>\n",
       "    <tr>\n",
       "      <th>0</th>\n",
       "      <td>Joshua Hays</td>\n",
       "      <td>2010-12-26</td>\n",
       "      <td>10</td>\n",
       "    </tr>\n",
       "  </tbody>\n",
       "</table>\n",
       "</div>"
      ],
      "text/plain": [
       "  Student Name         DOB Grade Level\n",
       "0  Joshua Hays  2010-12-26          10"
      ]
     },
     "metadata": {},
     "output_type": "display_data"
    }
   ],
   "source": [
    "sUserName = 'stu_jhays64'\n",
    "\n",
    "cursor.callproc('get_individual_student', (sUserName,))\n",
    "\n",
    "for result in cursor.stored_results():\n",
    "    display_results(result)"
   ]
  },
  {
   "cell_type": "markdown",
   "id": "bf7eb4b1-a0f4-4a0e-b73b-8a92ac921c5c",
   "metadata": {},
   "source": [
    "## Display Student Courses "
   ]
  },
  {
   "cell_type": "code",
   "execution_count": 7,
   "id": "60a5ed30-c389-4e38-b828-f0e50016be7e",
   "metadata": {},
   "outputs": [],
   "source": [
    "cursor.execute('DROP PROCEDURE IF EXISTS get_student_courses')\n",
    "\n",
    "cursor.execute(\n",
    "    \"\"\"\n",
    "    CREATE PROCEDURE get_student_courses(\n",
    "        IN sUserName VARCHAR(50)\n",
    "    )\n",
    "    BEGIN\n",
    "        SELECT DISTINCT  c.name AS \"Subject\"\n",
    "        FROM users u\n",
    "        JOIN student s ON u.user_id = s.user_id\n",
    "        JOIN takes t ON s.student_id = t.student_id\n",
    "        JOIN course c ON t.course_id = c.course_id\n",
    "        WHERE u.username = sUserName;\n",
    "    END\n",
    "    \"\"\"\n",
    ")"
   ]
  },
  {
   "cell_type": "code",
   "execution_count": 8,
   "id": "ae8ad839-5a34-4512-a12e-ee248d03a3cf",
   "metadata": {},
   "outputs": [
    {
     "data": {
      "text/html": [
       "<div>\n",
       "<style scoped>\n",
       "    .dataframe tbody tr th:only-of-type {\n",
       "        vertical-align: middle;\n",
       "    }\n",
       "\n",
       "    .dataframe tbody tr th {\n",
       "        vertical-align: top;\n",
       "    }\n",
       "\n",
       "    .dataframe thead th {\n",
       "        text-align: right;\n",
       "    }\n",
       "</style>\n",
       "<table border=\"1\" class=\"dataframe\">\n",
       "  <thead>\n",
       "    <tr style=\"text-align: right;\">\n",
       "      <th></th>\n",
       "      <th>Subject</th>\n",
       "    </tr>\n",
       "  </thead>\n",
       "  <tbody>\n",
       "    <tr>\n",
       "      <th>0</th>\n",
       "      <td>Science</td>\n",
       "    </tr>\n",
       "    <tr>\n",
       "      <th>1</th>\n",
       "      <td>History</td>\n",
       "    </tr>\n",
       "    <tr>\n",
       "      <th>2</th>\n",
       "      <td>Art</td>\n",
       "    </tr>\n",
       "    <tr>\n",
       "      <th>3</th>\n",
       "      <td>PE</td>\n",
       "    </tr>\n",
       "    <tr>\n",
       "      <th>4</th>\n",
       "      <td>Music</td>\n",
       "    </tr>\n",
       "    <tr>\n",
       "      <th>5</th>\n",
       "      <td>Computers</td>\n",
       "    </tr>\n",
       "  </tbody>\n",
       "</table>\n",
       "</div>"
      ],
      "text/plain": [
       "     Subject\n",
       "0    Science\n",
       "1    History\n",
       "2        Art\n",
       "3         PE\n",
       "4      Music\n",
       "5  Computers"
      ]
     },
     "metadata": {},
     "output_type": "display_data"
    }
   ],
   "source": [
    "sUserName = 'stu_jhays64'\n",
    "\n",
    "cursor.callproc('get_student_courses', (sUserName,))\n",
    "\n",
    "for result in cursor.stored_results():\n",
    "    display_results(result)"
   ]
  },
  {
   "cell_type": "markdown",
   "id": "da2deee6-235c-4a81-a10a-da19b1ca8bff",
   "metadata": {},
   "source": [
    "# Get Guardian Info (name and phone number) "
   ]
  },
  {
   "cell_type": "code",
   "execution_count": 9,
   "id": "1a8cfbe9-d53c-46ad-a346-87cdc41e1d72",
   "metadata": {},
   "outputs": [],
   "source": [
    "cursor.execute('DROP PROCEDURE IF EXISTS get_student_guardian')\n",
    "\n",
    "cursor.execute(\n",
    "    \"\"\"\n",
    "    CREATE PROCEDURE get_student_guardian(\n",
    "        IN sUserName VARCHAR(50)\n",
    "    )\n",
    "    BEGIN\n",
    "        SELECT CONCAT(g.first_name, ' ', g.last_name) AS \"Name\", \n",
    "            g.phone_number AS \"Phone Number\" \n",
    "        FROM users u\n",
    "            JOIN student s ON u.user_id = s.user_id\n",
    "            JOIN guardian_student_relationship gs ON gs.student_id = s.student_id\n",
    "            JOIN guardian g ON g.guardian_id = gs.guardian_id\n",
    "        WHERE u.username = sUserName;\n",
    "    END\n",
    "    \"\"\"\n",
    ")"
   ]
  },
  {
   "cell_type": "code",
   "execution_count": 10,
   "id": "2b0793e7-62f6-4272-af42-3b8c6f3e1e4e",
   "metadata": {},
   "outputs": [
    {
     "data": {
      "text/html": [
       "<div>\n",
       "<style scoped>\n",
       "    .dataframe tbody tr th:only-of-type {\n",
       "        vertical-align: middle;\n",
       "    }\n",
       "\n",
       "    .dataframe tbody tr th {\n",
       "        vertical-align: top;\n",
       "    }\n",
       "\n",
       "    .dataframe thead th {\n",
       "        text-align: right;\n",
       "    }\n",
       "</style>\n",
       "<table border=\"1\" class=\"dataframe\">\n",
       "  <thead>\n",
       "    <tr style=\"text-align: right;\">\n",
       "      <th></th>\n",
       "      <th>Name</th>\n",
       "      <th>Phone Number</th>\n",
       "    </tr>\n",
       "  </thead>\n",
       "  <tbody>\n",
       "    <tr>\n",
       "      <th>0</th>\n",
       "      <td>Earl Hays</td>\n",
       "      <td>(843) 880-4436</td>\n",
       "    </tr>\n",
       "    <tr>\n",
       "      <th>1</th>\n",
       "      <td>Kenneth Stokes</td>\n",
       "      <td>(819) 622-6979</td>\n",
       "    </tr>\n",
       "  </tbody>\n",
       "</table>\n",
       "</div>"
      ],
      "text/plain": [
       "             Name    Phone Number\n",
       "0       Earl Hays  (843) 880-4436\n",
       "1  Kenneth Stokes  (819) 622-6979"
      ]
     },
     "metadata": {},
     "output_type": "display_data"
    }
   ],
   "source": [
    "sUserName = 'stu_jhays64'\n",
    "\n",
    "cursor.callproc('get_student_guardian', (sUserName,))\n",
    "\n",
    "for result in cursor.stored_results():\n",
    "    display_results(result)"
   ]
  },
  {
   "cell_type": "markdown",
   "id": "5b1d0162-aaf9-4003-936e-55ae1ec6532d",
   "metadata": {},
   "source": [
    "# Get Student's Homeroom Teacher Name and Email "
   ]
  },
  {
   "cell_type": "code",
   "execution_count": 11,
   "id": "fa1e3487-2c1d-46cd-8103-41d49351d57c",
   "metadata": {},
   "outputs": [],
   "source": [
    "cursor.execute('DROP PROCEDURE IF EXISTS get_student_hometeacher')\n",
    "\n",
    "cursor.execute(\n",
    "    \"\"\"\n",
    "    CREATE PROCEDURE get_student_hometeacher(\n",
    "        IN sUserName VARCHAR(50)\n",
    "    )\n",
    "    BEGIN\n",
    "        SELECT \n",
    "            CONCAT(t.first_name,' ', t.last_name) as \"Teacher Name\",\n",
    "            u_t.email AS \"Teacher Email\"\n",
    "        FROM users u_s\n",
    "        JOIN student s ON u_s.user_id = s.user_id\n",
    "        JOIN teacher t ON s.homeroom_teacher_id = t.teacher_id\n",
    "        JOIN users u_t ON t.user_id = u_t.user_id\n",
    "        WHERE u_s.username = sUserName;\n",
    "    END\n",
    "    \"\"\"\n",
    ")"
   ]
  },
  {
   "cell_type": "code",
   "execution_count": 12,
   "id": "60222f4a-51c5-42c1-a143-8e6ae7638117",
   "metadata": {},
   "outputs": [
    {
     "data": {
      "text/html": [
       "<div>\n",
       "<style scoped>\n",
       "    .dataframe tbody tr th:only-of-type {\n",
       "        vertical-align: middle;\n",
       "    }\n",
       "\n",
       "    .dataframe tbody tr th {\n",
       "        vertical-align: top;\n",
       "    }\n",
       "\n",
       "    .dataframe thead th {\n",
       "        text-align: right;\n",
       "    }\n",
       "</style>\n",
       "<table border=\"1\" class=\"dataframe\">\n",
       "  <thead>\n",
       "    <tr style=\"text-align: right;\">\n",
       "      <th></th>\n",
       "      <th>Teacher Name</th>\n",
       "      <th>Teacher Email</th>\n",
       "    </tr>\n",
       "  </thead>\n",
       "  <tbody>\n",
       "    <tr>\n",
       "      <th>0</th>\n",
       "      <td>Cheyenne Ball</td>\n",
       "      <td>tea_chey.ball@moreno.info</td>\n",
       "    </tr>\n",
       "  </tbody>\n",
       "</table>\n",
       "</div>"
      ],
      "text/plain": [
       "    Teacher Name              Teacher Email\n",
       "0  Cheyenne Ball  tea_chey.ball@moreno.info"
      ]
     },
     "metadata": {},
     "output_type": "display_data"
    }
   ],
   "source": [
    "sUserName = 'stu_jhays64'\n",
    "\n",
    "cursor.callproc('get_student_hometeacher', (sUserName,))\n",
    "\n",
    "for result in cursor.stored_results():\n",
    "    display_results(result)"
   ]
  },
  {
   "cell_type": "markdown",
   "id": "62f1cbcf-61e0-4d62-9ee3-70146be4a55a",
   "metadata": {},
   "source": [
    "# Get Student's Grades "
   ]
  },
  {
   "cell_type": "code",
   "execution_count": 13,
   "id": "e62ab15e-9ebd-4a8f-9850-4d7e2154cc99",
   "metadata": {},
   "outputs": [],
   "source": [
    "cursor.execute('DROP PROCEDURE IF EXISTS get_student_grades')\n",
    "\n",
    "cursor.execute(\n",
    "    \"\"\"\n",
    "    CREATE PROCEDURE get_student_grades(\n",
    "        IN sUserName VARCHAR(50)\n",
    "    )\n",
    "    BEGIN\n",
    "            WITH student_grades AS (\n",
    "              SELECT \n",
    "                  c.name AS course_name,\n",
    "                  ROUND(SUM(gd.score * gd.weight) / SUM(gd.weight), 2) AS weighted_average\n",
    "              FROM users u\n",
    "              JOIN student s ON u.user_id = s.user_id\n",
    "              JOIN grade_details gd ON s.student_id = gd.student_id\n",
    "              JOIN course c ON gd.course_id = c.course_id\n",
    "              WHERE u.username = sUserName\n",
    "              GROUP BY c.course_id, c.name\n",
    "        )\n",
    "        SELECT \n",
    "            course_name AS \"Course Name\",\n",
    "            weighted_average AS \"Weighted Average\",\n",
    "            CASE \n",
    "                WHEN weighted_average >= 90 THEN 'A'\n",
    "                WHEN weighted_average >= 80 THEN 'B'\n",
    "                WHEN weighted_average >= 70 THEN 'C'\n",
    "                WHEN weighted_average >= 60 THEN 'D'\n",
    "                ELSE 'F'\n",
    "            END AS \"Letter Grade\"\n",
    "        FROM student_grades;\n",
    "    END\n",
    "    \"\"\"\n",
    ")"
   ]
  },
  {
   "cell_type": "code",
   "execution_count": 14,
   "id": "c3dd7e70-9821-4554-b341-8258d833a6ec",
   "metadata": {},
   "outputs": [
    {
     "data": {
      "text/html": [
       "<div>\n",
       "<style scoped>\n",
       "    .dataframe tbody tr th:only-of-type {\n",
       "        vertical-align: middle;\n",
       "    }\n",
       "\n",
       "    .dataframe tbody tr th {\n",
       "        vertical-align: top;\n",
       "    }\n",
       "\n",
       "    .dataframe thead th {\n",
       "        text-align: right;\n",
       "    }\n",
       "</style>\n",
       "<table border=\"1\" class=\"dataframe\">\n",
       "  <thead>\n",
       "    <tr style=\"text-align: right;\">\n",
       "      <th></th>\n",
       "      <th>Course Name</th>\n",
       "      <th>Weighted Average</th>\n",
       "      <th>Letter Grade</th>\n",
       "    </tr>\n",
       "  </thead>\n",
       "  <tbody>\n",
       "    <tr>\n",
       "      <th>0</th>\n",
       "      <td>Science</td>\n",
       "      <td>74.40</td>\n",
       "      <td>C</td>\n",
       "    </tr>\n",
       "    <tr>\n",
       "      <th>1</th>\n",
       "      <td>History</td>\n",
       "      <td>94.45</td>\n",
       "      <td>A</td>\n",
       "    </tr>\n",
       "    <tr>\n",
       "      <th>2</th>\n",
       "      <td>Art</td>\n",
       "      <td>86.05</td>\n",
       "      <td>B</td>\n",
       "    </tr>\n",
       "    <tr>\n",
       "      <th>3</th>\n",
       "      <td>PE</td>\n",
       "      <td>78.65</td>\n",
       "      <td>C</td>\n",
       "    </tr>\n",
       "    <tr>\n",
       "      <th>4</th>\n",
       "      <td>Music</td>\n",
       "      <td>73.65</td>\n",
       "      <td>C</td>\n",
       "    </tr>\n",
       "    <tr>\n",
       "      <th>5</th>\n",
       "      <td>Computers</td>\n",
       "      <td>74.65</td>\n",
       "      <td>C</td>\n",
       "    </tr>\n",
       "  </tbody>\n",
       "</table>\n",
       "</div>"
      ],
      "text/plain": [
       "  Course Name Weighted Average Letter Grade\n",
       "0     Science            74.40            C\n",
       "1     History            94.45            A\n",
       "2         Art            86.05            B\n",
       "3          PE            78.65            C\n",
       "4       Music            73.65            C\n",
       "5   Computers            74.65            C"
      ]
     },
     "metadata": {},
     "output_type": "display_data"
    }
   ],
   "source": [
    "sUserName = 'stu_jhays64'\n",
    "\n",
    "cursor.callproc('get_student_grades', (sUserName,))\n",
    "\n",
    "for result in cursor.stored_results():\n",
    "    display_results(result)"
   ]
  },
  {
   "cell_type": "markdown",
   "id": "e7899772-0ce9-45a0-8038-678eddc68049",
   "metadata": {},
   "source": [
    "## Get student's assignment grades"
   ]
  },
  {
   "cell_type": "code",
   "execution_count": 15,
   "id": "49cb74f7-382d-4f05-91e8-be94f48703d9",
   "metadata": {},
   "outputs": [],
   "source": [
    "cursor.execute('DROP PROCEDURE IF EXISTS get_student_assignment_grades')\n",
    "\n",
    "cursor.execute(\n",
    "    \"\"\"\n",
    "    CREATE PROCEDURE get_student_assignment_grades(\n",
    "        IN sUserName VARCHAR(50),\n",
    "        IN cid INT\n",
    "    )\n",
    "    BEGIN\n",
    "            WITH student_grades AS (\n",
    "              SELECT \n",
    "                  gd.grade_type as assignment,  \n",
    "                  gd.score as score,\n",
    "                  gd.weight as weight,\n",
    "                  ROUND(SUM(gd.score * gd.weight) / SUM(gd.weight), 2) AS weighted_average\n",
    "              FROM users u\n",
    "              JOIN student s ON u.user_id = s.user_id\n",
    "              JOIN grade_details gd ON s.student_id = gd.student_id\n",
    "              JOIN course c ON gd.course_id = c.course_id\n",
    "              WHERE u.username = sUserName\n",
    "                  AND gd.course_id = cid\n",
    "              GROUP BY gd.grade_type, gd.score, gd.weight\n",
    "        )\n",
    "        SELECT \n",
    "            assignment AS \"Grade Type\",\n",
    "            score AS \"Score\",\n",
    "            CASE \n",
    "                WHEN weighted_average >= 90 THEN 'A'\n",
    "                WHEN weighted_average >= 80 THEN 'B'\n",
    "                WHEN weighted_average >= 70 THEN 'C'\n",
    "                WHEN weighted_average >= 60 THEN 'D'\n",
    "                ELSE 'F'\n",
    "            END AS \"Letter Grade\"\n",
    "        FROM student_grades;\n",
    "    END\n",
    "    \"\"\"\n",
    ")"
   ]
  },
  {
   "cell_type": "code",
   "execution_count": 16,
   "id": "e5246eb9-0713-480d-bae9-4629a5dc7620",
   "metadata": {},
   "outputs": [
    {
     "data": {
      "text/html": [
       "<div>\n",
       "<style scoped>\n",
       "    .dataframe tbody tr th:only-of-type {\n",
       "        vertical-align: middle;\n",
       "    }\n",
       "\n",
       "    .dataframe tbody tr th {\n",
       "        vertical-align: top;\n",
       "    }\n",
       "\n",
       "    .dataframe thead th {\n",
       "        text-align: right;\n",
       "    }\n",
       "</style>\n",
       "<table border=\"1\" class=\"dataframe\">\n",
       "  <thead>\n",
       "    <tr style=\"text-align: right;\">\n",
       "      <th></th>\n",
       "      <th>Grade Type</th>\n",
       "      <th>Score</th>\n",
       "      <th>Letter Grade</th>\n",
       "    </tr>\n",
       "  </thead>\n",
       "  <tbody>\n",
       "    <tr>\n",
       "      <th>0</th>\n",
       "      <td>homework1</td>\n",
       "      <td>96</td>\n",
       "      <td>A</td>\n",
       "    </tr>\n",
       "    <tr>\n",
       "      <th>1</th>\n",
       "      <td>homework2</td>\n",
       "      <td>89</td>\n",
       "      <td>B</td>\n",
       "    </tr>\n",
       "    <tr>\n",
       "      <th>2</th>\n",
       "      <td>quiz</td>\n",
       "      <td>90</td>\n",
       "      <td>A</td>\n",
       "    </tr>\n",
       "    <tr>\n",
       "      <th>3</th>\n",
       "      <td>mid exam</td>\n",
       "      <td>100</td>\n",
       "      <td>A</td>\n",
       "    </tr>\n",
       "    <tr>\n",
       "      <th>4</th>\n",
       "      <td>final exam</td>\n",
       "      <td>93</td>\n",
       "      <td>A</td>\n",
       "    </tr>\n",
       "  </tbody>\n",
       "</table>\n",
       "</div>"
      ],
      "text/plain": [
       "   Grade Type  Score Letter Grade\n",
       "0   homework1     96            A\n",
       "1   homework2     89            B\n",
       "2        quiz     90            A\n",
       "3    mid exam    100            A\n",
       "4  final exam     93            A"
      ]
     },
     "metadata": {},
     "output_type": "display_data"
    }
   ],
   "source": [
    "sUserName = 'stu_jhays64'\n",
    "cid = 4\n",
    "\n",
    "cursor.callproc('get_student_assignment_grades', (sUserName, cid,))\n",
    "\n",
    "for result in cursor.stored_results():\n",
    "    display_results(result)"
   ]
  },
  {
   "cell_type": "code",
   "execution_count": 17,
   "id": "8abffd07-7846-4ba6-bdf2-01f9c6c00f2f",
   "metadata": {},
   "outputs": [],
   "source": [
    "cursor.close()\n",
    "conn.close()"
   ]
  }
 ],
 "metadata": {
  "kernelspec": {
   "display_name": "Python 3 (ipykernel)",
   "language": "python",
   "name": "python3"
  },
  "language_info": {
   "codemirror_mode": {
    "name": "ipython",
    "version": 3
   },
   "file_extension": ".py",
   "mimetype": "text/x-python",
   "name": "python",
   "nbconvert_exporter": "python",
   "pygments_lexer": "ipython3",
   "version": "3.12.7"
  }
 },
 "nbformat": 4,
 "nbformat_minor": 5
}
